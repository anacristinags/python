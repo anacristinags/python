{
 "cells": [
  {
   "cell_type": "markdown",
   "id": "9bd71093-512b-44c7-9d47-375c45d57e00",
   "metadata": {},
   "source": [
    "# Python - Conceitos Básicos\n",
    "## Números: \n",
    "Básicamente há dois tipos de números, inteiros (int) e  pontos-flutuante(float). \n",
    "## Strings e Indexação\n",
    "Você pode definir uma String com: '' ou \"\". <br>\n",
    "Strings não suporta redefinição de variavél, maspodemos concatenar elas e depois \"alterar\" isso\n",
    "<br> Exemplo de indexição: "
   ]
  },
  {
   "cell_type": "code",
   "execution_count": 18,
   "id": "2e50c59d-4c7d-4322-ae4a-bc67c519e737",
   "metadata": {},
   "outputs": [
    {
     "name": "stdout",
     "output_type": "stream",
     "text": [
      "o\n"
     ]
    }
   ],
   "source": [
    "s = 'olá mundo' #declarando e atribuindo dados\n",
    "print (s[0]) # vai printar a posição 0\n"
   ]
  },
  {
   "cell_type": "code",
   "execution_count": 11,
   "id": "9095c540-68cb-4f46-8753-021aabd1d965",
   "metadata": {},
   "outputs": [
    {
     "name": "stdout",
     "output_type": "stream",
     "text": [
      "olá mundo\n"
     ]
    }
   ],
   "source": [
    "print(s[:]) # printará tudo: (posição inicial : posição final -1)"
   ]
  },
  {
   "cell_type": "code",
   "execution_count": 12,
   "id": "4ccb3b0b-71dc-4a8d-aa01-dcd187f53149",
   "metadata": {},
   "outputs": [
    {
     "name": "stdout",
     "output_type": "stream",
     "text": [
      "olá \n"
     ]
    }
   ],
   "source": [
    "print(s[0:4]) #vai printar apenas a palavra \"olá\""
   ]
  },
  {
   "cell_type": "code",
   "execution_count": 13,
   "id": "bfdbe179-0d15-42a3-a0e3-2edaf1ca3297",
   "metadata": {},
   "outputs": [
    {
     "name": "stdout",
     "output_type": "stream",
     "text": [
      "olá mun\n"
     ]
    }
   ],
   "source": [
    "print(s[:-2]) # pode contar de trás para frente também"
   ]
  },
  {
   "cell_type": "code",
   "execution_count": 14,
   "id": "1cd09a73-de33-4e25-9f6a-08a54b1e8d04",
   "metadata": {},
   "outputs": [
    {
     "data": {
      "text/plain": [
       "'olá mundo'"
      ]
     },
     "execution_count": 14,
     "metadata": {},
     "output_type": "execute_result"
    }
   ],
   "source": [
    "print(s[::]) #indica o espaçamento entre as indexações (por padrão é 1)"
   ]
  },
  {
   "cell_type": "code",
   "execution_count": 15,
   "id": "a68b8786-d295-4c23-86db-417571936709",
   "metadata": {},
   "outputs": [
    {
     "name": "stdout",
     "output_type": "stream",
     "text": [
      "oámno\n"
     ]
    }
   ],
   "source": [
    "print(s[::2]) #mas pode ser diferente... nesse caso vai printar de 2 em 2"
   ]
  },
  {
   "cell_type": "code",
   "execution_count": 31,
   "id": "57bd8119-bf83-4b85-99c4-4cb57a247690",
   "metadata": {},
   "outputs": [
    {
     "name": "stdout",
     "output_type": "stream",
     "text": [
      "odnum álo\n"
     ]
    }
   ],
   "source": [
    "print(s[::-1]) #vai de trás para frente"
   ]
  },
  {
   "cell_type": "code",
   "execution_count": 34,
   "id": "49221677-a2c7-4653-b0fe-0ecbde0f2ab5",
   "metadata": {},
   "outputs": [
    {
     "name": "stdout",
     "output_type": "stream",
     "text": [
      "o\n"
     ]
    }
   ],
   "source": [
    "print(s[-1]) # vai printar o último (mesma coisa de print(s[8])"
   ]
  },
  {
   "cell_type": "markdown",
   "id": "227f1674-959e-4740-ad72-949e2caff14a",
   "metadata": {},
   "source": [
    "## Formatação"
   ]
  },
  {
   "cell_type": "code",
   "execution_count": 27,
   "id": "1461c41f-d0ab-4e24-9e07-95d3737aef0e",
   "metadata": {},
   "outputs": [
    {
     "name": "stdout",
     "output_type": "stream",
     "text": [
      "temos uma string auxiliar\n",
      "printando pontos flutuantes 3.14\n",
      "Temos uma string aqui. Temos um inteiro aqui: 123\n"
     ]
    }
   ],
   "source": [
    "num = 123\n",
    "nome = 'string'\n",
    "print(\"temos uma %s auxiliar\" %(nome))\n",
    "print(\"printando pontos flutuantes %.2f\" %(3.1415))\n",
    "print(\"Temos uma %s aqui. Temos um inteiro aqui: %r\" %(nome, num))"
   ]
  },
  {
   "cell_type": "code",
   "execution_count": 28,
   "id": "67ed10f8-d70b-46eb-82d3-3c95ea9b5afa",
   "metadata": {},
   "outputs": [
    {
     "name": "stdout",
     "output_type": "stream",
     "text": [
      "Um: 1, Dois: 123, Três: 3.1415\n"
     ]
    }
   ],
   "source": [
    "a1 = \"Um: {a}, Dois: {b}, Três: {c}\".format(a=1, b=123, c=3.1415)\n",
    "print(a1)"
   ]
  },
  {
   "cell_type": "markdown",
   "id": "15277c70-5031-4f65-8aef-56f313e06d65",
   "metadata": {},
   "source": [
    "## Listas\n",
    "A lista permite multiplos tipos de dados e ela não tem tamanho ou valores fixos."
   ]
  },
  {
   "cell_type": "code",
   "execution_count": 43,
   "id": "6e7b3e77-8bcc-4ae0-8f26-29a53fd0f6f7",
   "metadata": {},
   "outputs": [
    {
     "name": "stdout",
     "output_type": "stream",
     "text": [
      "[1, 2, 3.14, 'string', 'olá mundo']\n"
     ]
    }
   ],
   "source": [
    "minha_lista1 =[1,2,3.14,\"string\"]\n",
    "minha_lista2 = [\"olá mundo\"] #pode-se concatenar listas :)\n",
    "print(minha_lista1 + minha_lista2) #dessa forma não altera nenhuma das listas "
   ]
  },
  {
   "cell_type": "code",
   "execution_count": 44,
   "id": "ae5d532d-919c-4189-a0d7-0a0beb725ef9",
   "metadata": {},
   "outputs": [
    {
     "name": "stdout",
     "output_type": "stream",
     "text": [
      "[1, 2, 3.14, 'string', 'adição permanente']\n"
     ]
    }
   ],
   "source": [
    "# para fazer uma adição permanete:\n",
    "minha_lista1 += [\"adição permanente\"]\n",
    "print(minha_lista1)"
   ]
  },
  {
   "cell_type": "code",
   "execution_count": 45,
   "id": "7833f782-7d4c-446f-a990-d4f8680837fb",
   "metadata": {},
   "outputs": [
    {
     "name": "stdout",
     "output_type": "stream",
     "text": [
      "[1, 2, 3.14, 'string', 'adição permanente', 'mais um']\n"
     ]
    }
   ],
   "source": [
    "# ou pode utilizar um método também \n",
    "minha_lista1.append(\"mais um\")\n",
    "print(minha_lista1)"
   ]
  },
  {
   "cell_type": "code",
   "execution_count": 47,
   "id": "81a0b2f8-0162-4f78-a956-3fb7133d40f7",
   "metadata": {},
   "outputs": [
    {
     "name": "stdout",
     "output_type": "stream",
     "text": [
      "[1, 2, 3.14, 'string', 'adição permanente']\n"
     ]
    }
   ],
   "source": [
    "# se quiser apagar algum valor da lista, (por padrão é o último, mas pode mudar o index)\n",
    "minha_lista1.pop()\n",
    "print(minha_lista1)"
   ]
  },
  {
   "cell_type": "code",
   "execution_count": 48,
   "id": "448b1952-464b-4ae6-bf5f-4059f24fb764",
   "metadata": {},
   "outputs": [
    {
     "name": "stdout",
     "output_type": "stream",
     "text": [
      "[1, 2, 3.14, 'string']\n"
     ]
    }
   ],
   "source": [
    "# escolhendo o qual elemento remover da lista\n",
    "minha_lista1.pop(4)\n",
    "print(minha_lista1)"
   ]
  },
  {
   "cell_type": "code",
   "execution_count": 49,
   "id": "135c0528-aa36-4f30-bb64-08792a5ee5af",
   "metadata": {},
   "outputs": [
    {
     "name": "stdout",
     "output_type": "stream",
     "text": [
      "[1, 2, 3.14]\n",
      "string\n"
     ]
    }
   ],
   "source": [
    "# o método pop() também salva, ex:\n",
    "variavel_removida = minha_lista1.pop()\n",
    "print(minha_lista1)\n",
    "print(variavel_removida)"
   ]
  },
  {
   "cell_type": "code",
   "execution_count": 50,
   "id": "bf8285f7-f989-4d4f-bc73-79f8f19d2a71",
   "metadata": {},
   "outputs": [
    {
     "name": "stdout",
     "output_type": "stream",
     "text": [
      "['cristina', 'ana', 'nome:']\n"
     ]
    }
   ],
   "source": [
    "# outros métodos:\n",
    "nova_lista = [\"nome:\",\"ana\", \"cristina\"]\n",
    "nova_lista.reverse() #vai inverter a ordem de trás para frente\n",
    "print(nova_lista)"
   ]
  },
  {
   "cell_type": "code",
   "execution_count": 51,
   "id": "877fa925-d5b6-4433-ab57-639b95256848",
   "metadata": {},
   "outputs": [
    {
     "name": "stdout",
     "output_type": "stream",
     "text": [
      "['ana', 'cristina', 'nome:']\n"
     ]
    }
   ],
   "source": [
    "nova_lista.sort() # coloca em ordem\n",
    "print(nova_lista)"
   ]
  },
  {
   "cell_type": "markdown",
   "id": "8a803abc-7b2e-4f80-b7d1-26ee539c896f",
   "metadata": {},
   "source": [
    "### listas dentro de listas:"
   ]
  },
  {
   "cell_type": "code",
   "execution_count": 56,
   "id": "edfd49a5-740c-4957-bc86-8634d44da5e9",
   "metadata": {},
   "outputs": [
    {
     "name": "stdout",
     "output_type": "stream",
     "text": [
      "[[1, 2, 3, 4], [5, 6, 7], [8, 9]]\n"
     ]
    },
    {
     "data": {
      "text/plain": [
       "3"
      ]
     },
     "execution_count": 56,
     "metadata": {},
     "output_type": "execute_result"
    }
   ],
   "source": [
    "lista1 = [1, 2, 3, 4]\n",
    "lista2 = [5, 6, 7]\n",
    "lista3 = [8, 9]\n",
    "matriz = [lista1, lista2, lista3] # agora temos uma lista de duas dimensões\n",
    "print(matriz) \n",
    "len(matriz) #fala do tam da matriz"
   ]
  },
  {
   "cell_type": "code",
   "execution_count": 55,
   "id": "132102d2-e60c-47ec-9954-7b842ca2c613",
   "metadata": {},
   "outputs": [
    {
     "data": {
      "text/plain": [
       "4"
      ]
     },
     "execution_count": 55,
     "metadata": {},
     "output_type": "execute_result"
    }
   ],
   "source": [
    "len(matriz[0]) #fala o tam da lista dentro da \"lista\""
   ]
  },
  {
   "cell_type": "code",
   "execution_count": 57,
   "id": "47f4c0ab-c597-49bd-a3d7-10c137dfb547",
   "metadata": {},
   "outputs": [
    {
     "name": "stdout",
     "output_type": "stream",
     "text": [
      "5\n"
     ]
    }
   ],
   "source": [
    "#como retornar um elemento de uma lista dentro de outra lista? ex: como retornar o 5?\n",
    "print(matriz[1][0]) # [index referente da lista] [index referente do elemento da lista]"
   ]
  },
  {
   "cell_type": "code",
   "execution_count": 58,
   "id": "4af574e1-e9a6-4e8e-bfc4-f6242f3807d5",
   "metadata": {},
   "outputs": [
    {
     "name": "stdout",
     "output_type": "stream",
     "text": [
      "[1, 5, 8]\n"
     ]
    }
   ],
   "source": [
    "# selecionando colunas da matriz:\n",
    "primeira_coluna = [row[0] for row in matriz] \n",
    "# mesma coisa: primeira_coluna = [matriz[0][0], matriz[1][0], matriz[2][0]]\n",
    "print(primeira_coluna) "
   ]
  },
  {
   "cell_type": "markdown",
   "id": "2dfca7cb-c279-49c0-8f37-be4f8054a7a4",
   "metadata": {},
   "source": [
    "## Dicionários\n",
    "Outro `tipo de estrutura de dados` em python. Se comporta de maneira semelhante às listas, não possui limitação de tamanho e nem especificação do tipo de dado. A difereça dele para uma lista é a forma como os valores são acessados. <br>\n",
    "Na Lista acessamos através do índicie (0, 1, 2...) o dicionário mapeia, ele vai associar algum valor dele com alguma chave. \n",
    "### Criando um Dicionário \n",
    "DicionarioNome = {\"nomeChave\" : (o que quer armazenar, `pode ser dicionarios, lista (lista dentro de lista...), tipos primitivos...`)} <br>\n",
    "**Ex:** dicionario = {\"chave1\": 1.2, \"chave2\": \"string\"}\n",
    "<br>obs: não existe sequência no dicionário.<br>\n",
    "**Chamando valores do dicionário** <br>\n",
    "DicionarioNome['nome da chave'] (feito isso, é possível chamar também as partes da chave através dos índice, ou pode-se até utilizar métodos normalmente). ex:"
   ]
  },
  {
   "cell_type": "code",
   "execution_count": 7,
   "id": "e7d66f3e-bb1c-4528-ae09-de57b270516e",
   "metadata": {},
   "outputs": [
    {
     "data": {
      "text/plain": [
       "'olá'"
      ]
     },
     "execution_count": 7,
     "metadata": {},
     "output_type": "execute_result"
    }
   ],
   "source": [
    "my_dict = {\"chave1\": 1.34, \"chave2\":\"olá mundo\", \"chave3\":[1, 2, [3, 4, 5]]} #criando o dicionário \n",
    "my_dict[\"chave2\"][0:3] #chamando apenas partes do dicionario"
   ]
  },
  {
   "cell_type": "code",
   "execution_count": 5,
   "id": "8d3881b3-6b29-42a5-b67b-c4dd37361c5d",
   "metadata": {},
   "outputs": [
    {
     "data": {
      "text/plain": [
       "'OLÁ MUNDO'"
      ]
     },
     "execution_count": 5,
     "metadata": {},
     "output_type": "execute_result"
    }
   ],
   "source": [
    "my_dict[\"chave2\"].upper() "
   ]
  },
  {
   "cell_type": "code",
   "execution_count": 9,
   "id": "f8f7f492-9462-4a34-aefe-3c2cc5f31c0f",
   "metadata": {},
   "outputs": [
    {
     "name": "stdout",
     "output_type": "stream",
     "text": [
      "3\n"
     ]
    }
   ],
   "source": [
    "print(my_dict[\"chave3\"][2][0]) #localiza através do nome da chave, reconhe o índicie da lista e qual o elemento da lista selecionada"
   ]
  },
  {
   "cell_type": "code",
   "execution_count": 11,
   "id": "1291a682-0345-490f-a36d-4a4edbae5a53",
   "metadata": {},
   "outputs": [
    {
     "name": "stdout",
     "output_type": "stream",
     "text": [
      "1234\n",
      "{'chave1': 1234, 'chave2': 'olá mundo', 'chave3': [1, 2, [3, 4, 5]]}\n"
     ]
    }
   ],
   "source": [
    "# dicionários também são mutáveis\n",
    "my_dict[\"chave1\"] = 1234\n",
    "print(my_dict[\"chave1\"])\n",
    "print(my_dict)"
   ]
  },
  {
   "cell_type": "code",
   "execution_count": 12,
   "id": "e4821a7a-ff1f-475d-b3da-2371af3d7b7a",
   "metadata": {},
   "outputs": [
    {
     "name": "stdout",
     "output_type": "stream",
     "text": [
      "{'chave1': 0, 'chave2': 'olá mundo', 'chave3': [1, 2, [3, 4, 5]]}\n"
     ]
    }
   ],
   "source": [
    "# até operações, ex:\n",
    "my_dict[\"chave1\"] -= 1234\n",
    "print(my_dict)"
   ]
  },
  {
   "cell_type": "code",
   "execution_count": 13,
   "id": "71cc3df1-a258-46ac-ba6a-3f234947f22f",
   "metadata": {},
   "outputs": [
    {
     "name": "stdout",
     "output_type": "stream",
     "text": [
      "{'key1': 'dog'}\n"
     ]
    }
   ],
   "source": [
    "# podemos criar dicionários do nada e ir adicionando elementos nele, ex:\n",
    "d = {} # dicionario vazio \n",
    "d[\"key1\"] = \"dog\" # para inserir coisas dentro dele, basta acessar as chaves que eu quero que ele acesse e atribuir valores à elas\n",
    "print(d)"
   ]
  },
  {
   "cell_type": "code",
   "execution_count": 14,
   "id": "6558fc63-6979-4c6c-b190-f2b3260a87c0",
   "metadata": {},
   "outputs": [
    {
     "name": "stdout",
     "output_type": "stream",
     "text": [
      "{'key1': 'dog', 'key2': 'cat'}\n"
     ]
    }
   ],
   "source": [
    "d[\"key2\"] = \"cat\" # criando mais elementos no dicionario \n",
    "print(d)"
   ]
  },
  {
   "cell_type": "markdown",
   "id": "d2fe411b-a67a-4060-8dd0-852798274532",
   "metadata": {},
   "source": [
    "**Principais métodos**"
   ]
  },
  {
   "cell_type": "code",
   "execution_count": 17,
   "id": "43a107bd-bfef-422c-abd1-318378675b78",
   "metadata": {},
   "outputs": [
    {
     "name": "stdout",
     "output_type": "stream",
     "text": [
      "dict_keys(['chave1', 'chave2', 'chave3'])\n"
     ]
    }
   ],
   "source": [
    "print(my_dict.keys()) #retorna a \"lista\" contendo todas as chaves do dicionario"
   ]
  },
  {
   "cell_type": "code",
   "execution_count": 20,
   "id": "a5e9a0c9-3cdd-4554-ae82-a6e107f961bd",
   "metadata": {},
   "outputs": [
    {
     "name": "stdout",
     "output_type": "stream",
     "text": [
      "['chave1', 'chave2', 'chave3']\n"
     ]
    }
   ],
   "source": [
    "# para de fato ser uma lista, faremos:\n",
    "print(list(my_dict.keys()))"
   ]
  },
  {
   "cell_type": "code",
   "execution_count": 22,
   "id": "b736db0a-e958-469f-b85c-db405a139526",
   "metadata": {},
   "outputs": [
    {
     "name": "stdout",
     "output_type": "stream",
     "text": [
      "chave2\n"
     ]
    }
   ],
   "source": [
    "# e isso é iteravel, ex:\n",
    "print(list(my_dict.keys())[1])"
   ]
  },
  {
   "cell_type": "code",
   "execution_count": 23,
   "id": "66fd6a47-5d2d-45ab-8c60-0c106fd83356",
   "metadata": {},
   "outputs": [
    {
     "name": "stdout",
     "output_type": "stream",
     "text": [
      "dict_values([0, 'olá mundo', [1, 2, [3, 4, 5]]])\n"
     ]
    }
   ],
   "source": [
    "print(my_dict.values()) #retorna os valores dentro das chaves"
   ]
  },
  {
   "cell_type": "code",
   "execution_count": 24,
   "id": "1254941d-34c8-4581-b027-c9dbd7cdfbb5",
   "metadata": {},
   "outputs": [
    {
     "name": "stdout",
     "output_type": "stream",
     "text": [
      "dict_items([('chave1', 0), ('chave2', 'olá mundo'), ('chave3', [1, 2, [3, 4, 5]])])\n"
     ]
    }
   ],
   "source": [
    "print(my_dict.items()) #retorna todos os itens do dicionario, quase que um print() mesmo, porém com uma visualização mais fácil talvez"
   ]
  },
  {
   "cell_type": "markdown",
   "id": "72379f96-2b0d-43c2-9949-f39897bec87b",
   "metadata": {},
   "source": [
    "## Tuplas\n",
    "Formato alternativos de dados em python que se assemelham muito a lista. Diferente das listas elas `não são mutáveis, uma vez definido não é possivel associar outro item nela e nem adicionar um novo item.` <br>\n",
    "### Criando uma tupla: \n",
    "nomeTupla = (1,2.7,3, \"oi\", [4,5,6], 1) <br>\n",
    "**Consultando dados da tupla:** <br>\n",
    "É possivél puxar os elementos da tupla através da indexição: tupla[index]; <br>\n",
    "**Métodos básicos de tupla:** <br>\n",
    ">tupla.index(\"oi\")\n",
    "\n",
    "* Passa o elemento que você tem e é retornado o index desse elemento `(nesse caso é [3])`\n",
    "\n",
    ">t.count(1)\n",
    "\n",
    "* Diz quantas vezes um mesmo elemento está dentro da tupla `(nesse caso retornaria 2)`\n"
   ]
  },
  {
   "cell_type": "markdown",
   "id": "ea00dd87-460d-4297-8477-5ea2aca96b2c",
   "metadata": {},
   "source": [
    "## Sets\n",
    "**Set:** Conjunto de dados que só permite valores únicos. <br>\n"
   ]
  },
  {
   "cell_type": "code",
   "execution_count": 1,
   "id": "89c30dc5-c752-46df-b868-7f9a251c89db",
   "metadata": {},
   "outputs": [
    {
     "data": {
      "text/plain": [
       "set"
      ]
     },
     "execution_count": 1,
     "metadata": {},
     "output_type": "execute_result"
    }
   ],
   "source": [
    "x = set()\n",
    "type(x)"
   ]
  },
  {
   "cell_type": "code",
   "execution_count": 2,
   "id": "2e3718d5-7db6-41c3-9a1a-59b24131753e",
   "metadata": {},
   "outputs": [
    {
     "name": "stdout",
     "output_type": "stream",
     "text": [
      "{1}\n"
     ]
    }
   ],
   "source": [
    "x.add(1)\n",
    "print(x)"
   ]
  },
  {
   "cell_type": "code",
   "execution_count": 3,
   "id": "c124683a-084c-4ca1-a15d-bd0ea6cad4df",
   "metadata": {},
   "outputs": [
    {
     "name": "stdout",
     "output_type": "stream",
     "text": [
      "{1, 2}\n"
     ]
    }
   ],
   "source": [
    "x.add(2)\n",
    "print(x) # não confunda set com dicionários, em dict é preciso ter uma chave associada\n"
   ]
  },
  {
   "cell_type": "code",
   "execution_count": 4,
   "id": "1828e57f-2660-4fe3-927c-93148e7d543a",
   "metadata": {},
   "outputs": [
    {
     "name": "stdout",
     "output_type": "stream",
     "text": [
      "{1, 2}\n"
     ]
    }
   ],
   "source": [
    "x.add(2) # set não irá considerar esse elemento repetido \n",
    "print(x) "
   ]
  },
  {
   "cell_type": "code",
   "execution_count": 5,
   "id": "aefda535-1c57-4f4f-9f8b-bc6bc440582c",
   "metadata": {},
   "outputs": [
    {
     "name": "stdout",
     "output_type": "stream",
     "text": [
      "[1, 1, 1, 3, 4, 55, 55, 32, 32, 0]\n"
     ]
    }
   ],
   "source": [
    "# com essa característica do set, podemos filtrar elementos repetidos, ex: \n",
    "lista_ex = [1, 1, 1, 3, 4, 55, 55, 32, 32, 0] #criando uma lista com elementos repetidos\n",
    "# se quiser printar a lista, ela irá mostrar todos os elementos:\n",
    "print(lista_ex)"
   ]
  },
  {
   "cell_type": "code",
   "execution_count": 6,
   "id": "d6e8ffff-7965-4369-8ad6-e70a79e637df",
   "metadata": {},
   "outputs": [
    {
     "name": "stdout",
     "output_type": "stream",
     "text": [
      "{32, 1, 0, 3, 4, 55}\n"
     ]
    }
   ],
   "source": [
    "# mas utilizando set:\n",
    "set_lista = set(lista_ex)\n",
    "print(set_lista)"
   ]
  },
  {
   "cell_type": "code",
   "execution_count": null,
   "id": "2ab4c35d-ac54-4f77-8b13-6108b19c15c0",
   "metadata": {},
   "outputs": [],
   "source": []
  }
 ],
 "metadata": {
  "kernelspec": {
   "display_name": "Python 3 (ipykernel)",
   "language": "python",
   "name": "python3"
  },
  "language_info": {
   "codemirror_mode": {
    "name": "ipython",
    "version": 3
   },
   "file_extension": ".py",
   "mimetype": "text/x-python",
   "name": "python",
   "nbconvert_exporter": "python",
   "pygments_lexer": "ipython3",
   "version": "3.12.4"
  }
 },
 "nbformat": 4,
 "nbformat_minor": 5
}
